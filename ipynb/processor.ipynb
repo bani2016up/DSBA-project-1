{
 "cells": [
  {
   "cell_type": "code",
   "execution_count": 1,
   "metadata": {},
   "outputs": [
    {
     "name": "stdout",
     "output_type": "stream",
     "text": [
      "Requirement already satisfied: pandas in /Library/Frameworks/Python.framework/Versions/3.12/lib/python3.12/site-packages (2.2.3)\n",
      "Requirement already satisfied: numpy>=1.26.0 in /Library/Frameworks/Python.framework/Versions/3.12/lib/python3.12/site-packages (from pandas) (2.0.0)\n",
      "Requirement already satisfied: python-dateutil>=2.8.2 in /Users/daniilparfenov/Library/Python/3.12/lib/python/site-packages (from pandas) (2.9.0.post0)\n",
      "Requirement already satisfied: pytz>=2020.1 in /Library/Frameworks/Python.framework/Versions/3.12/lib/python3.12/site-packages (from pandas) (2024.2)\n",
      "Requirement already satisfied: tzdata>=2022.7 in /Library/Frameworks/Python.framework/Versions/3.12/lib/python3.12/site-packages (from pandas) (2024.2)\n",
      "Requirement already satisfied: six>=1.5 in /Users/daniilparfenov/Library/Python/3.12/lib/python/site-packages (from python-dateutil>=2.8.2->pandas) (1.16.0)\n",
      "Note: you may need to restart the kernel to use updated packages.\n",
      "Requirement already satisfied: python-dotenv in /Library/Frameworks/Python.framework/Versions/3.12/lib/python3.12/site-packages (1.0.1)\n",
      "Note: you may need to restart the kernel to use updated packages.\n",
      "Requirement already satisfied: numpy in /Library/Frameworks/Python.framework/Versions/3.12/lib/python3.12/site-packages (2.0.0)\n",
      "Note: you may need to restart the kernel to use updated packages.\n"
     ]
    }
   ],
   "source": [
    "%pip install pandas\n",
    "%pip install python-dotenv\n",
    "%pip install numpy"
   ]
  },
  {
   "cell_type": "code",
   "execution_count": 2,
   "metadata": {},
   "outputs": [],
   "source": [
    "import os\n",
    "import pandas\n",
    "import requests\n",
    "\n",
    "import numpy as np\n",
    "\n",
    "from typing import Final\n",
    "from dateutil import parser\n",
    "from functools import  cache\n",
    "from dotenv import load_dotenv"
   ]
  },
  {
   "cell_type": "code",
   "execution_count": null,
   "metadata": {},
   "outputs": [],
   "source": [
    "load_dotenv()\n",
    "API_KEY = os.getenv(\"EXCHANGERATE_API_KEY\")\n",
    "if not API_KEY:\n",
    "    raise ValueError(\"Exchange rate API key not found in environment variables. Use EXCHANGERATE_API_KEY.\")"
   ]
  },
  {
   "cell_type": "code",
   "execution_count": 3,
   "metadata": {},
   "outputs": [],
   "source": [
    "path_to_dataset: Final[str] = \"synthetic_fraud_data.csv\"\n",
    "exchange_rate_cache = {}"
   ]
  },
  {
   "cell_type": "code",
   "execution_count": 4,
   "metadata": {},
   "outputs": [],
   "source": [
    "dataset = pandas.read_csv(path_to_dataset)"
   ]
  },
  {
   "cell_type": "markdown",
   "metadata": {},
   "source": [
    "### Use code bellow to generate subset of 10MB from original dataset if needed."
   ]
  },
  {
   "cell_type": "code",
   "execution_count": 5,
   "metadata": {},
   "outputs": [
    {
     "name": "stdout",
     "output_type": "stream",
     "text": [
      "Original dataset size: 8148.61 MB\n",
      "Subset size: 9.06 MB\n",
      "Number of rows in original dataset: 7483766\n",
      "Number of rows in subset: 8266\n",
      "Subset saved to 'subset_data.csv'\n"
     ]
    }
   ],
   "source": [
    "\n",
    "\n",
    "dataset = pandas.read_csv(path_to_dataset)\n",
    "\n",
    "dataset_size_mb = dataset.memory_usage(deep=True).sum() / 1024 / 1024\n",
    "\n",
    "if dataset_size_mb <= 10:\n",
    "    subset = dataset\n",
    "else:\n",
    "    fraction = 10 / dataset_size_mb\n",
    "    subset = dataset.sample(frac=fraction, random_state=42)\n",
    "\n",
    "    subset_size_mb = subset.memory_usage(deep=True).sum() / 1024 / 1024\n",
    "\n",
    "    while subset_size_mb > 10:\n",
    "        subset = subset.sample(frac=0.9, random_state=42)\n",
    "        subset_size_mb = subset.memory_usage(deep=True).sum() / 1024 / 1024\n",
    "\n",
    "print(f\"Original dataset size: {dataset_size_mb:.2f} MB\")\n",
    "print(f\"Subset size: {subset_size_mb:.2f} MB\")\n",
    "print(f\"Number of rows in original dataset: {len(dataset)}\")\n",
    "print(f\"Number of rows in subset: {len(subset)}\")\n",
    "\n",
    "subset.to_csv(\"subset_data.csv\", index=False)\n",
    "print(\"Subset saved to 'subset_data.csv'\")"
   ]
  },
  {
   "cell_type": "markdown",
   "metadata": {},
   "source": [
    "### Use code below to convert amount and currency to USD."
   ]
  },
  {
   "cell_type": "code",
   "execution_count": 18,
   "metadata": {},
   "outputs": [
    {
     "name": "stdout",
     "output_type": "stream",
     "text": [
      "https://v6.exchangerate-api.com/v6/666fd3adb3ce0cdc27ea2481/latest/GBP\n",
      "https://v6.exchangerate-api.com/v6/666fd3adb3ce0cdc27ea2481/latest/BRL\n",
      "https://v6.exchangerate-api.com/v6/666fd3adb3ce0cdc27ea2481/latest/JPY\n",
      "https://v6.exchangerate-api.com/v6/666fd3adb3ce0cdc27ea2481/latest/AUD\n",
      "https://v6.exchangerate-api.com/v6/666fd3adb3ce0cdc27ea2481/latest/NGN\n",
      "https://v6.exchangerate-api.com/v6/666fd3adb3ce0cdc27ea2481/latest/EUR\n",
      "https://v6.exchangerate-api.com/v6/666fd3adb3ce0cdc27ea2481/latest/MXN\n",
      "https://v6.exchangerate-api.com/v6/666fd3adb3ce0cdc27ea2481/latest/RUB\n",
      "https://v6.exchangerate-api.com/v6/666fd3adb3ce0cdc27ea2481/latest/CAD\n",
      "https://v6.exchangerate-api.com/v6/666fd3adb3ce0cdc27ea2481/latest/SGD\n",
      "https://v6.exchangerate-api.com/v6/666fd3adb3ce0cdc27ea2481/latest/USD\n"
     ]
    }
   ],
   "source": [
    "\n",
    "@cache\n",
    "def get_exchange_rate(currency: str):\n",
    "\n",
    "    url = f'https://v6.exchangerate-api.com/v6/{API_KEY}/latest/{currency.upper()}'\n",
    "    print(url)\n",
    "\n",
    "    try:\n",
    "        response = requests.get(url)\n",
    "        data = response.json()\n",
    "\n",
    "        if data['result'] != 'success':\n",
    "            raise ValueError(f\"Error fetching exchange rate: {data.get('error-type', 'Unknown error')}\")\n",
    "\n",
    "\n",
    "        rates = data['conversion_rates']\n",
    "\n",
    "        usd_rate = rates.get('USD')\n",
    "        if usd_rate is None:\n",
    "            print(\"USD rate not found in response.\")\n",
    "            return None\n",
    "\n",
    "        return usd_rate\n",
    "    except Exception as e:\n",
    "        print(f\"Exception occurred: {e}\")\n",
    "        return None\n",
    "\n",
    "def convert_to_usd(row):\n",
    "    amount = row['amount']\n",
    "    currency = row['currency']\n",
    "    timestamp = row['timestamp']\n",
    "\n",
    "\n",
    "    # TODO: Use timestamp to parse money, and history api. [Needs not free subscription]\n",
    "    # Format the date for the API ('YYYY-MM-DD')\n",
    "    # if isinstance(timestamp, str):\n",
    "    #     try:\n",
    "    #         timestamp_dt = parser.parse(timestamp)\n",
    "    #     except ValueError:\n",
    "    #         return None\n",
    "    # else:\n",
    "    #     return None\n",
    "\n",
    "    rate = get_exchange_rate(currency)\n",
    "    if rate is None:\n",
    "        return None\n",
    "\n",
    "    amount_usd = amount * rate\n",
    "    return amount_usd\n",
    "\n",
    "\n",
    "dataset['amount_usd'] = dataset.apply(convert_to_usd, axis=1)\n",
    "dataset.to_csv(\"processed_data.csv\")"
   ]
  }
 ],
 "metadata": {
  "kernelspec": {
   "display_name": "Python 3",
   "language": "python",
   "name": "python3"
  },
  "language_info": {
   "codemirror_mode": {
    "name": "ipython",
    "version": 3
   },
   "file_extension": ".py",
   "mimetype": "text/x-python",
   "name": "python",
   "nbconvert_exporter": "python",
   "pygments_lexer": "ipython3",
   "version": "3.12.0"
  }
 },
 "nbformat": 4,
 "nbformat_minor": 2
}
